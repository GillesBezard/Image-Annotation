{
 "cells": [
  {
   "cell_type": "markdown",
   "metadata": {},
   "source": [
    "\n",
    "# An example of labelled images\n",
    "Testing lib (drawBoundinfBoxesLib.py)\n",
    "\n",
    "Version 1.01 - April 1th 2022\n"
   ]
  },
  {
   "cell_type": "markdown",
   "metadata": {},
   "source": [
    "### Imports"
   ]
  },
  {
   "cell_type": "code",
   "execution_count": 1,
   "metadata": {},
   "outputs": [],
   "source": [
    "# Various imports\n",
    "import os\n",
    "import sys\n",
    "import numpy as np\n",
    "import PIL\n",
    "from PIL import Image, ImageFilter\n",
    "sys.path.append('..')\n",
    "sys.path.append('.')\n",
    "import drawBoundingBoxesLib as dbb"
   ]
  },
  {
   "cell_type": "markdown",
   "metadata": {},
   "source": [
    "### Constant definitions\n"
   ]
  },
  {
   "cell_type": "code",
   "execution_count": 2,
   "metadata": {},
   "outputs": [],
   "source": [
    "# Variables for context\n",
    "datasetFolderName = 'dataset'\n",
    "annotationFileName = os.path.join(datasetFolderName, 'annotations_Shark.csv')\n",
    "imageFolderName = os.path.join(datasetFolderName, 'images')\n",
    "annotadedImageFolderName = os.path.join(datasetFolderName, 'imagesWithBB')\n",
    "annotationText = '_w_label'\n",
    "\n",
    "# Constants\n",
    "RED = (255,0,0)\n",
    "GREEN = (0,255,0)\n",
    "BLUE = (0,0,255)\n",
    "WHITE = (255,255,255)\n",
    "BLACK = (0,0,0)"
   ]
  },
  {
   "cell_type": "markdown",
   "metadata": {},
   "source": [
    "### Display an image\n"
   ]
  },
  {
   "cell_type": "code",
   "execution_count": 130,
   "metadata": {},
   "outputs": [],
   "source": [
    "#imageName = 'GH014198-60e7155540695_1399_0_760.jpeg'\n",
    "#imgOR = Image.open(os.path.join(imageFolderName, imageName))\n",
    "#imgOR.show()"
   ]
  },
  {
   "cell_type": "markdown",
   "metadata": {},
   "source": [
    "### Read CSV file"
   ]
  },
  {
   "cell_type": "code",
   "execution_count": 3,
   "metadata": {},
   "outputs": [
    {
     "name": "stdout",
     "output_type": "stream",
     "text": "(69, 8)\n[['/media/laura/4T/databases/ulm_base1_poe_dedicated_Shark_without_GH034218_tiled_enriched/GH014198-60e7155540695_1542_0_760.jpeg'\n  1352 760 'Shark' 1129 7 1153 28]\n ['/media/laura/4T/databases/ulm_base1_poe_dedicated_Shark_without_GH034218_tiled_enriched/GH014198-60e7155540695_1541_0_0.jpeg'\n  1352 760 'Shark' 1161 651 1186 674]]\n"
    }
   ],
   "source": [
    "import pandas as pd\n",
    "dataReadByPandas = pd.read_csv(annotationFileName)\n",
    "npDatas = np.copy(dataReadByPandas.values)\n",
    "print(npDatas.shape)\n",
    "print(npDatas[:2,:])\n",
    ""
   ]
  },
  {
   "cell_type": "code",
   "execution_count": 5,
   "metadata": {},
   "outputs": [],
   "source": [
    "imageName, className, x1, x2, y1, y2 = dbb.getImageAndBBCordinatesFromCSVLine(npDatas[0])\n",
    "imgOR = Image.open(os.path.join(imageFolderName, imageName))\n",
    "imageAnnotated = dbb.annotateImage(imgOR, x1, y1, x2, y2, RED)\n",
    "imageAnnotated.save(os.path.join(annotadedImageFolderName, str(imageName + annotationText)), \"JPEG\")\n",
    "imageAnnotated.show()"
   ]
  },
  {
   "cell_type": "code",
   "execution_count": 7,
   "metadata": {},
   "outputs": [],
   "source": [
    "imageName, className, x1, x2, y1, y2 = dbb.getImageAndBBCordinatesFromCSVLine(npDatas[5])\n",
    "imgOR = Image.open(os.path.join(imageFolderName, imageName))\n",
    "imageAnnotated = dbb.annotateImage(imgOR, x1, y1, x2, y2, RED)\n",
    "imageAnnotated.save(os.path.join(annotadedImageFolderName, str(imageName + annotationText)), \"JPEG\")\n",
    "imageAnnotated.show()"
   ]
  },
  {
   "cell_type": "code",
   "execution_count": null,
   "metadata": {},
   "outputs": [],
   "source": []
  }
 ],
 "metadata": {
  "kernelspec": {
   "display_name": "Python 3",
   "language": "python",
   "name": "python3"
  },
  "language_info": {
   "codemirror_mode": {
    "name": "ipython",
    "version": 3
   },
   "file_extension": ".py",
   "mimetype": "text/x-python",
   "name": "python",
   "nbconvert_exporter": "python",
   "pygments_lexer": "ipython3",
   "version": "3.7.3-final"
  }
 },
 "nbformat": 4,
 "nbformat_minor": 1
}